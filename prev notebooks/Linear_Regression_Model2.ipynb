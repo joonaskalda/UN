{
 "cells": [
  {
   "cell_type": "markdown",
   "metadata": {},
   "source": [
    "### Linear Regression Model\n",
    "\n",
    "We will proceed initially to use the last 3 years to model the data with a simple linear regression."
   ]
  },
  {
   "cell_type": "code",
   "execution_count": 49,
   "metadata": {},
   "outputs": [],
   "source": [
    "import numpy as np\n",
    "import pandas as pd\n",
    "import matplotlib.pyplot as plt\n",
    "from sklearn.linear_model import LinearRegression, Ridge\n",
    "from sklearn.preprocessing import PolynomialFeatures\n",
    "from sklearn.pipeline import Pipeline\n",
    "from collections import defaultdict\n",
    "import re"
   ]
  },
  {
   "cell_type": "code",
   "execution_count": 54,
   "metadata": {},
   "outputs": [],
   "source": [
    "year_from = 2005\n",
    "\n",
    "def load_data(year_from):  \n",
    "    assert isinstance(year_from,int)\n",
    "    # Imports\n",
    "    train = pd.read_csv('data/TrainingSet.csv',index_col=0)\n",
    "    submission = pd.read_csv('data/SubmissionRows.csv',index_col=0)\n",
    "    # Remove [YR****] and input '_' for last 3 cols\n",
    "    train.columns = list(map(lambda x: re.findall(r'\\d+',x)[0],train.columns[:36])) + list(map(lambda x: '_'.join(x.split()),train.columns[36:]))\n",
    "    # Use last 3 years for predictions: This is subjected to change\n",
    "    train = train.loc[:,f'{year_from}':]\n",
    "    return train, submission"
   ]
  },
  {
   "cell_type": "code",
   "execution_count": 55,
   "metadata": {},
   "outputs": [],
   "source": [
    "# Load data:\n",
    "train, submission = load_data(2005)"
   ]
  },
  {
   "cell_type": "code",
   "execution_count": 59,
   "metadata": {},
   "outputs": [
    {
     "data": {
      "text/plain": [
       "Int64Index([   559,    618,    753,   1030,   1896,   1955,   2090,   2690,\n",
       "              3233,   3292,\n",
       "            ...\n",
       "            283137, 283460, 284003, 284062, 284197, 284474, 285340, 285399,\n",
       "            285534, 285811],\n",
       "           dtype='int64', length=737)"
      ]
     },
     "execution_count": 59,
     "metadata": {},
     "output_type": "execute_result"
    }
   ],
   "source": [
    "submission.index"
   ]
  },
  {
   "cell_type": "code",
   "execution_count": 26,
   "metadata": {},
   "outputs": [],
   "source": [
    "def submission_data_missing(train,submission):    \n",
    "    mask  = train.loc[submission.index,].T.isna().sum()>0\n",
    "    train_X = train.loc[submission.index,]\n",
    "    return train_X.loc[mask]"
   ]
  },
  {
   "cell_type": "code",
   "execution_count": 27,
   "metadata": {},
   "outputs": [
    {
     "data": {
      "text/html": [
       "<div>\n",
       "<style scoped>\n",
       "    .dataframe tbody tr th:only-of-type {\n",
       "        vertical-align: middle;\n",
       "    }\n",
       "\n",
       "    .dataframe tbody tr th {\n",
       "        vertical-align: top;\n",
       "    }\n",
       "\n",
       "    .dataframe thead th {\n",
       "        text-align: right;\n",
       "    }\n",
       "</style>\n",
       "<table border=\"1\" class=\"dataframe\">\n",
       "  <thead>\n",
       "    <tr style=\"text-align: right;\">\n",
       "      <th></th>\n",
       "      <th>2005</th>\n",
       "      <th>2006</th>\n",
       "      <th>2007</th>\n",
       "      <th>Country_Name</th>\n",
       "      <th>Series_Code</th>\n",
       "      <th>Series_Name</th>\n",
       "    </tr>\n",
       "  </thead>\n",
       "  <tbody>\n",
       "    <tr>\n",
       "      <td>8038</td>\n",
       "      <td>NaN</td>\n",
       "      <td>NaN</td>\n",
       "      <td>0.918215</td>\n",
       "      <td>Antigua and Barbuda</td>\n",
       "      <td>2.1</td>\n",
       "      <td>Achieve universal primary education</td>\n",
       "    </tr>\n",
       "    <tr>\n",
       "      <td>23347</td>\n",
       "      <td>NaN</td>\n",
       "      <td>0.162000</td>\n",
       "      <td>0.197000</td>\n",
       "      <td>Belarus</td>\n",
       "      <td>8.16</td>\n",
       "      <td>Develop a global partnership for development: ...</td>\n",
       "    </tr>\n",
       "    <tr>\n",
       "      <td>42800</td>\n",
       "      <td>NaN</td>\n",
       "      <td>0.982781</td>\n",
       "      <td>0.983149</td>\n",
       "      <td>Cambodia</td>\n",
       "      <td>2.1</td>\n",
       "      <td>Achieve universal primary education</td>\n",
       "    </tr>\n",
       "    <tr>\n",
       "      <td>52159</td>\n",
       "      <td>NaN</td>\n",
       "      <td>NaN</td>\n",
       "      <td>0.949294</td>\n",
       "      <td>Chile</td>\n",
       "      <td>2.1</td>\n",
       "      <td>Achieve universal primary education</td>\n",
       "    </tr>\n",
       "    <tr>\n",
       "      <td>64882</td>\n",
       "      <td>0.000373</td>\n",
       "      <td>NaN</td>\n",
       "      <td>0.000213</td>\n",
       "      <td>Cuba</td>\n",
       "      <td>5.1</td>\n",
       "      <td>Improve maternal health</td>\n",
       "    </tr>\n",
       "    <tr>\n",
       "      <td>80838</td>\n",
       "      <td>NaN</td>\n",
       "      <td>NaN</td>\n",
       "      <td>0.004100</td>\n",
       "      <td>Eritrea</td>\n",
       "      <td>8.16</td>\n",
       "      <td>Develop a global partnership for development: ...</td>\n",
       "    </tr>\n",
       "    <tr>\n",
       "      <td>85584</td>\n",
       "      <td>NaN</td>\n",
       "      <td>0.988391</td>\n",
       "      <td>0.996179</td>\n",
       "      <td>Fiji</td>\n",
       "      <td>2.1</td>\n",
       "      <td>Achieve universal primary education</td>\n",
       "    </tr>\n",
       "    <tr>\n",
       "      <td>105595</td>\n",
       "      <td>0.014000</td>\n",
       "      <td>NaN</td>\n",
       "      <td>0.045000</td>\n",
       "      <td>Guinea</td>\n",
       "      <td>6.7</td>\n",
       "      <td>Combat malaria and other diseases</td>\n",
       "    </tr>\n",
       "    <tr>\n",
       "      <td>107578</td>\n",
       "      <td>NaN</td>\n",
       "      <td>NaN</td>\n",
       "      <td>0.138000</td>\n",
       "      <td>Guyana</td>\n",
       "      <td>8.16</td>\n",
       "      <td>Develop a global partnership for development: ...</td>\n",
       "    </tr>\n",
       "    <tr>\n",
       "      <td>146351</td>\n",
       "      <td>NaN</td>\n",
       "      <td>NaN</td>\n",
       "      <td>0.005514</td>\n",
       "      <td>Liberia</td>\n",
       "      <td>8.16</td>\n",
       "      <td>Develop a global partnership for development: ...</td>\n",
       "    </tr>\n",
       "    <tr>\n",
       "      <td>173091</td>\n",
       "      <td>NaN</td>\n",
       "      <td>NaN</td>\n",
       "      <td>0.090000</td>\n",
       "      <td>Mongolia</td>\n",
       "      <td>8.16</td>\n",
       "      <td>Develop a global partnership for development: ...</td>\n",
       "    </tr>\n",
       "    <tr>\n",
       "      <td>209925</td>\n",
       "      <td>NaN</td>\n",
       "      <td>0.926961</td>\n",
       "      <td>0.932826</td>\n",
       "      <td>Russian Federation</td>\n",
       "      <td>2.1</td>\n",
       "      <td>Achieve universal primary education</td>\n",
       "    </tr>\n",
       "    <tr>\n",
       "      <td>211864</td>\n",
       "      <td>0.005560</td>\n",
       "      <td>NaN</td>\n",
       "      <td>0.021154</td>\n",
       "      <td>Rwanda</td>\n",
       "      <td>8.16</td>\n",
       "      <td>Develop a global partnership for development: ...</td>\n",
       "    </tr>\n",
       "    <tr>\n",
       "      <td>236665</td>\n",
       "      <td>0.956291</td>\n",
       "      <td>NaN</td>\n",
       "      <td>0.898415</td>\n",
       "      <td>St. Kitts and Nevis</td>\n",
       "      <td>2.1</td>\n",
       "      <td>Achieve universal primary education</td>\n",
       "    </tr>\n",
       "    <tr>\n",
       "      <td>240676</td>\n",
       "      <td>0.982794</td>\n",
       "      <td>NaN</td>\n",
       "      <td>0.984301</td>\n",
       "      <td>St. Vincent and the Grenadines</td>\n",
       "      <td>2.1</td>\n",
       "      <td>Achieve universal primary education</td>\n",
       "    </tr>\n",
       "    <tr>\n",
       "      <td>265344</td>\n",
       "      <td>NaN</td>\n",
       "      <td>NaN</td>\n",
       "      <td>0.100000</td>\n",
       "      <td>Tuvalu</td>\n",
       "      <td>8.16</td>\n",
       "      <td>Develop a global partnership for development: ...</td>\n",
       "    </tr>\n",
       "  </tbody>\n",
       "</table>\n",
       "</div>"
      ],
      "text/plain": [
       "            2005      2006      2007                    Country_Name  \\\n",
       "8038         NaN       NaN  0.918215             Antigua and Barbuda   \n",
       "23347        NaN  0.162000  0.197000                         Belarus   \n",
       "42800        NaN  0.982781  0.983149                        Cambodia   \n",
       "52159        NaN       NaN  0.949294                           Chile   \n",
       "64882   0.000373       NaN  0.000213                            Cuba   \n",
       "80838        NaN       NaN  0.004100                         Eritrea   \n",
       "85584        NaN  0.988391  0.996179                            Fiji   \n",
       "105595  0.014000       NaN  0.045000                          Guinea   \n",
       "107578       NaN       NaN  0.138000                          Guyana   \n",
       "146351       NaN       NaN  0.005514                         Liberia   \n",
       "173091       NaN       NaN  0.090000                        Mongolia   \n",
       "209925       NaN  0.926961  0.932826              Russian Federation   \n",
       "211864  0.005560       NaN  0.021154                          Rwanda   \n",
       "236665  0.956291       NaN  0.898415             St. Kitts and Nevis   \n",
       "240676  0.982794       NaN  0.984301  St. Vincent and the Grenadines   \n",
       "265344       NaN       NaN  0.100000                          Tuvalu   \n",
       "\n",
       "       Series_Code                                        Series_Name  \n",
       "8038           2.1                Achieve universal primary education  \n",
       "23347         8.16  Develop a global partnership for development: ...  \n",
       "42800          2.1                Achieve universal primary education  \n",
       "52159          2.1                Achieve universal primary education  \n",
       "64882          5.1                            Improve maternal health  \n",
       "80838         8.16  Develop a global partnership for development: ...  \n",
       "85584          2.1                Achieve universal primary education  \n",
       "105595         6.7                  Combat malaria and other diseases  \n",
       "107578        8.16  Develop a global partnership for development: ...  \n",
       "146351        8.16  Develop a global partnership for development: ...  \n",
       "173091        8.16  Develop a global partnership for development: ...  \n",
       "209925         2.1                Achieve universal primary education  \n",
       "211864        8.16  Develop a global partnership for development: ...  \n",
       "236665         2.1                Achieve universal primary education  \n",
       "240676         2.1                Achieve universal primary education  \n",
       "265344        8.16  Develop a global partnership for development: ...  "
      ]
     },
     "execution_count": 27,
     "metadata": {},
     "output_type": "execute_result"
    }
   ],
   "source": [
    "# 16 rows with missing values: Interpolate these values\n",
    "submission_data_missing(train,submission)"
   ]
  },
  {
   "cell_type": "code",
   "execution_count": 28,
   "metadata": {},
   "outputs": [],
   "source": [
    "def interpolate_data(train,submission):\n",
    "    train_X = train.loc[submission.index,:]\n",
    "    # Interpolate: Both directions are bfilled and ffilled respectively\n",
    "    train_X.loc[:,:'2007'] = train_X.loc[:,:'2007'].interpolate(limit_direction='both',axis=1)\n",
    "    return train_X"
   ]
  },
  {
   "cell_type": "code",
   "execution_count": 29,
   "metadata": {},
   "outputs": [],
   "source": [
    "# Data:\n",
    "data = interpolate_data(train,submission)\n",
    "\n",
    "# Func to split that dataframe to values [2005,2006,2007] and [country_name,series_code,series_name]\n",
    "def split_dataframe(data):\n",
    "    raw_data = data.loc[:,:'2007']\n",
    "    description = data.loc[:,'Country_Name':]\n",
    "    return raw_data,description"
   ]
  },
  {
   "cell_type": "code",
   "execution_count": 30,
   "metadata": {},
   "outputs": [],
   "source": [
    "# Split:\n",
    "raw_data,description = split_dataframe(data)"
   ]
  },
  {
   "cell_type": "code",
   "execution_count": 31,
   "metadata": {},
   "outputs": [],
   "source": [
    "# Export CSV:\n",
    "raw_data.to_csv('data/raw_data.csv')\n",
    "description.to_csv('data/description.csv')"
   ]
  },
  {
   "cell_type": "code",
   "execution_count": 32,
   "metadata": {},
   "outputs": [],
   "source": [
    "def format_dataframe(raw_data):\n",
    "    \"\"\"\n",
    "    Quick utility function to format dataframe into a X,y format with X = Numbers of years from the start, y = values.\n",
    "    Example:\n",
    "    Initial Dataframe being:\n",
    "    2005   0.4\n",
    "    2006   0.6\n",
    "    2007   0.8\n",
    "    \n",
    "    The function transforms it into\n",
    "    X   y\n",
    "    0   0.4\n",
    "    1   0.6\n",
    "    2   0.8\n",
    "    \n",
    "    Returns: X,y\n",
    "    \n",
    "    Note: If we have 10 different timeseries (features) X.shape = (n_years,n_features) so slicing will be needed to predict\n",
    "    individually.\n",
    "    \"\"\"\n",
    "    # Extract index from raw data before transforming:\n",
    "    raw_data_index = list(raw_data.index)\n",
    "    raw_data.columns = raw_data.columns.astype('int')\n",
    "    # Transponse to have time as index instead of columns\n",
    "    raw_data = raw_data.T\n",
    "    X = np.asarray(raw_data.index - raw_data.index[0]).reshape(-1,1)\n",
    "    y = raw_data.values\n",
    "    return X,y,raw_data_index"
   ]
  },
  {
   "cell_type": "code",
   "execution_count": 33,
   "metadata": {},
   "outputs": [],
   "source": [
    "X,y,raw_data_index = format_dataframe(raw_data)"
   ]
  },
  {
   "cell_type": "code",
   "execution_count": 34,
   "metadata": {},
   "outputs": [],
   "source": [
    "def linear_regression_poly(X,y,degree,year):\n",
    "    assert isinstance(X,np.ndarray)\n",
    "    assert isinstance(y,np.ndarray)\n",
    "    assert isinstance(degree,int) and degree > 0\n",
    "    assert year >= 2005\n",
    "    year_pred = np.array([[year % year_from]])\n",
    "    pipe = Pipeline([('poly',PolynomialFeatures(degree=degree)),('linear',LinearRegression())])\n",
    "    n_features = y.shape[1]\n",
    "    predictions_year = defaultdict(list)\n",
    "    # Fit:\n",
    "    for i in range(n_features):\n",
    "        # slice each series:\n",
    "        y_i = y[:,i]\n",
    "        pipe.fit(X,y_i)\n",
    "        # prediction value for year specified\n",
    "        y_pred = pipe.predict(year_pred)[0]\n",
    "        predictions_year[f'{year}[YR{year}]'].append(y_pred)\n",
    "    \n",
    "     # To dataframe: with correctly indexed submission values\n",
    "    df = pd.DataFrame(predictions_year,index=raw_data_index)\n",
    "    return df\n",
    "        "
   ]
  },
  {
   "cell_type": "code",
   "execution_count": 35,
   "metadata": {},
   "outputs": [
    {
     "data": {
      "text/html": [
       "<div>\n",
       "<style scoped>\n",
       "    .dataframe tbody tr th:only-of-type {\n",
       "        vertical-align: middle;\n",
       "    }\n",
       "\n",
       "    .dataframe tbody tr th {\n",
       "        vertical-align: top;\n",
       "    }\n",
       "\n",
       "    .dataframe thead th {\n",
       "        text-align: right;\n",
       "    }\n",
       "</style>\n",
       "<table border=\"1\" class=\"dataframe\">\n",
       "  <thead>\n",
       "    <tr style=\"text-align: right;\">\n",
       "      <th></th>\n",
       "      <th>2008 [YR2008]</th>\n",
       "      <th>2012 [YR2012]</th>\n",
       "    </tr>\n",
       "  </thead>\n",
       "  <tbody>\n",
       "    <tr>\n",
       "      <td>559</td>\n",
       "      <td>0.500000</td>\n",
       "      <td>0.640000</td>\n",
       "    </tr>\n",
       "    <tr>\n",
       "      <td>618</td>\n",
       "      <td>0.024196</td>\n",
       "      <td>0.037713</td>\n",
       "    </tr>\n",
       "    <tr>\n",
       "      <td>753</td>\n",
       "      <td>0.108367</td>\n",
       "      <td>0.095967</td>\n",
       "    </tr>\n",
       "    <tr>\n",
       "      <td>1030</td>\n",
       "      <td>0.001000</td>\n",
       "      <td>0.001000</td>\n",
       "    </tr>\n",
       "    <tr>\n",
       "      <td>1896</td>\n",
       "      <td>0.960667</td>\n",
       "      <td>0.958667</td>\n",
       "    </tr>\n",
       "  </tbody>\n",
       "</table>\n",
       "</div>"
      ],
      "text/plain": [
       "      2008 [YR2008]  2012 [YR2012]\n",
       "559        0.500000       0.640000\n",
       "618        0.024196       0.037713\n",
       "753        0.108367       0.095967\n",
       "1030       0.001000       0.001000\n",
       "1896       0.960667       0.958667"
      ]
     },
     "execution_count": 35,
     "metadata": {},
     "output_type": "execute_result"
    }
   ],
   "source": [
    "# Predictions: Polynomial degree = 1:\n",
    "_2008 = linear_regression_poly(X,y,1,2008).values\n",
    "_2012 = linear_regression_poly(X,y,1,2012).values\n",
    "\n",
    "# Into submission:\n",
    "submission['2008 [YR2008]'] = _2008\n",
    "submission['2012 [YR2012]'] = _2012\n",
    "submission.head()"
   ]
  },
  {
   "cell_type": "code",
   "execution_count": 36,
   "metadata": {},
   "outputs": [],
   "source": [
    "# Index mapper for plotting:\n",
    "index_mapper = {k:index for index,k in enumerate(raw_data_index)}\n",
    "\n",
    "# Plotting:\n",
    "def plot_predictions(raw_data,description,pred_2008,pred_2012,n_features):\n",
    "    pred_2008_values = pred_2008\n",
    "    pred_2012_values = pred_2012\n",
    "    pred_concat = np.concatenate([pred_2008_values,pred_2012_values],axis=1)\n",
    "    random_indicators = np.random.choice(raw_data_index,size=n_features)\n",
    "    # plot:\n",
    "    fig,ax = plt.subplots(1,1,figsize=(14,8))\n",
    "    ax.set_title(f'Values from {year_from} including pred: 2008, 2012')\n",
    "    for i in random_indicators:\n",
    "        values = raw_data.T.loc[:,i].values\n",
    "        ax.plot([str(x) for x in range(year_from,2008)],values,label=f'{description.Country_Name[i]} : {description.Series_Name[i]}',marker='o')\n",
    "        ax.plot(['2008','2012'],pred_concat[index_mapper[i],:],linestyle='--', label=f'{description.Country_Name[i]} : {description.Series_Name[i]} PRED',marker='o')\n",
    "        ax.legend()"
   ]
  },
  {
   "cell_type": "code",
   "execution_count": 37,
   "metadata": {},
   "outputs": [
    {
     "data": {
      "image/png": "[encoded data removed]",
      "text/plain": [
       "<Figure size 1008x576 with 1 Axes>"
      ]
     },
     "metadata": {
      "needs_background": "light"
     },
     "output_type": "display_data"
    }
   ],
   "source": [
    "# Plot:\n",
    "np.random.seed(2)\n",
    "plot_predictions(raw_data,description,_2008,_2012,5)"
   ]
  },
  {
   "cell_type": "code",
   "execution_count": 38,
   "metadata": {},
   "outputs": [
    {
     "data": {
      "text/html": [
       "<div>\n",
       "<style scoped>\n",
       "    .dataframe tbody tr th:only-of-type {\n",
       "        vertical-align: middle;\n",
       "    }\n",
       "\n",
       "    .dataframe tbody tr th {\n",
       "        vertical-align: top;\n",
       "    }\n",
       "\n",
       "    .dataframe thead th {\n",
       "        text-align: right;\n",
       "    }\n",
       "</style>\n",
       "<table border=\"1\" class=\"dataframe\">\n",
       "  <thead>\n",
       "    <tr style=\"text-align: right;\">\n",
       "      <th></th>\n",
       "      <th>2008 [YR2008]</th>\n",
       "      <th>2012 [YR2012]</th>\n",
       "    </tr>\n",
       "  </thead>\n",
       "  <tbody>\n",
       "    <tr>\n",
       "      <td>559</td>\n",
       "      <td>0.500000</td>\n",
       "      <td>0.640000</td>\n",
       "    </tr>\n",
       "    <tr>\n",
       "      <td>618</td>\n",
       "      <td>0.006028</td>\n",
       "      <td>-0.154871</td>\n",
       "    </tr>\n",
       "    <tr>\n",
       "      <td>753</td>\n",
       "      <td>0.108700</td>\n",
       "      <td>0.099500</td>\n",
       "    </tr>\n",
       "    <tr>\n",
       "      <td>1030</td>\n",
       "      <td>0.001000</td>\n",
       "      <td>0.001000</td>\n",
       "    </tr>\n",
       "    <tr>\n",
       "      <td>1896</td>\n",
       "      <td>0.959000</td>\n",
       "      <td>0.941000</td>\n",
       "    </tr>\n",
       "  </tbody>\n",
       "</table>\n",
       "</div>"
      ],
      "text/plain": [
       "      2008 [YR2008]  2012 [YR2012]\n",
       "559        0.500000       0.640000\n",
       "618        0.006028      -0.154871\n",
       "753        0.108700       0.099500\n",
       "1030       0.001000       0.001000\n",
       "1896       0.959000       0.941000"
      ]
     },
     "execution_count": 38,
     "metadata": {},
     "output_type": "execute_result"
    }
   ],
   "source": [
    "# Predictions: Polynomial degree = 2:\n",
    "_2008 = linear_regression_poly(X,y,2,2008).values\n",
    "_2012 = linear_regression_poly(X,y,2,2012).values\n",
    "\n",
    "# Into submission:\n",
    "submission['2008 [YR2008]'] = _2008\n",
    "submission['2012 [YR2012]'] = _2012\n",
    "submission.head()"
   ]
  },
  {
   "cell_type": "code",
   "execution_count": 39,
   "metadata": {},
   "outputs": [
    {
     "data": {
      "image/png": "[encoded data removed]",
      "text/plain": [
       "<Figure size 1008x576 with 1 Axes>"
      ]
     },
     "metadata": {
      "needs_background": "light"
     },
     "output_type": "display_data"
    }
   ],
   "source": [
    "# Plot: degree = 2\n",
    "np.random.seed(2)\n",
    "plot_predictions(raw_data,description,_2008,_2012,5)"
   ]
  },
  {
   "cell_type": "markdown",
   "metadata": {},
   "source": [
    "### Note:\n",
    "\n",
    "Values from linear regression with degree = 1 scored higher (RMSE = 0.0549). Degree = 2 scored RMSE = 0.2483."
   ]
  },
  {
   "cell_type": "markdown",
   "metadata": {},
   "source": [
    "### Ridge Regression:\n",
    "\n",
    "Adding regularization to possibly dampen the effects of a polynomial of degree 2."
   ]
  },
  {
   "cell_type": "code",
   "execution_count": 40,
   "metadata": {},
   "outputs": [],
   "source": [
    "def ridge_regression_poly(X,y,degree,year,alpha):\n",
    "    assert isinstance(X,np.ndarray)\n",
    "    assert isinstance(y,np.ndarray)\n",
    "    assert isinstance(degree,int) and degree > 0\n",
    "    assert year >= 2005\n",
    "    year_pred = np.array([[year % year_from]])\n",
    "    pipe = Pipeline([('poly',PolynomialFeatures(degree=degree)),('linear',Ridge(alpha=alpha))])\n",
    "    n_features = y.shape[1]\n",
    "    predictions_year = defaultdict(list)\n",
    "    # Fit:\n",
    "    for i in range(n_features):\n",
    "        # slice each series:\n",
    "        y_i = y[:,i]\n",
    "        pipe.fit(X,y_i)\n",
    "        # prediction value for year specified\n",
    "        y_pred = pipe.predict(year_pred)[0]\n",
    "        predictions_year[f'{year}[YR{year}]'].append(y_pred)\n",
    "    \n",
    "     # To dataframe: with correctly indexed submission values\n",
    "    df = pd.DataFrame(predictions_year,index=raw_data_index)\n",
    "    return df"
   ]
  },
  {
   "cell_type": "code",
   "execution_count": 41,
   "metadata": {},
   "outputs": [
    {
     "data": {
      "text/html": [
       "<div>\n",
       "<style scoped>\n",
       "    .dataframe tbody tr th:only-of-type {\n",
       "        vertical-align: middle;\n",
       "    }\n",
       "\n",
       "    .dataframe tbody tr th {\n",
       "        vertical-align: top;\n",
       "    }\n",
       "\n",
       "    .dataframe thead th {\n",
       "        text-align: right;\n",
       "    }\n",
       "</style>\n",
       "<table border=\"1\" class=\"dataframe\">\n",
       "  <thead>\n",
       "    <tr style=\"text-align: right;\">\n",
       "      <th></th>\n",
       "      <th>2008 [YR2008]</th>\n",
       "      <th>2012 [YR2012]</th>\n",
       "    </tr>\n",
       "  </thead>\n",
       "  <tbody>\n",
       "    <tr>\n",
       "      <td>559</td>\n",
       "      <td>0.492566</td>\n",
       "      <td>0.595200</td>\n",
       "    </tr>\n",
       "    <tr>\n",
       "      <td>618</td>\n",
       "      <td>0.021903</td>\n",
       "      <td>0.029173</td>\n",
       "    </tr>\n",
       "    <tr>\n",
       "      <td>753</td>\n",
       "      <td>0.109054</td>\n",
       "      <td>0.100012</td>\n",
       "    </tr>\n",
       "    <tr>\n",
       "      <td>1030</td>\n",
       "      <td>0.001000</td>\n",
       "      <td>0.001000</td>\n",
       "    </tr>\n",
       "    <tr>\n",
       "      <td>1896</td>\n",
       "      <td>0.960628</td>\n",
       "      <td>0.958920</td>\n",
       "    </tr>\n",
       "  </tbody>\n",
       "</table>\n",
       "</div>"
      ],
      "text/plain": [
       "      2008 [YR2008]  2012 [YR2012]\n",
       "559        0.492566       0.595200\n",
       "618        0.021903       0.029173\n",
       "753        0.109054       0.100012\n",
       "1030       0.001000       0.001000\n",
       "1896       0.960628       0.958920"
      ]
     },
     "execution_count": 41,
     "metadata": {},
     "output_type": "execute_result"
    }
   ],
   "source": [
    "# Predictions:\n",
    "_2008_ridge = ridge_regression_poly(X,y,2,2008,8)\n",
    "_2012_ridge = ridge_regression_poly(X,y,2,2012,32)\n",
    "\n",
    "# Into submission:\n",
    "submission['2008 [YR2008]'] = _2008_ridge\n",
    "submission['2012 [YR2012]'] = _2012_ridge\n",
    "submission.head()"
   ]
  },
  {
   "cell_type": "code",
   "execution_count": 42,
   "metadata": {},
   "outputs": [
    {
     "data": {
      "image/png": "[encoded data removed]",
      "text/plain": [
       "<Figure size 1008x576 with 1 Axes>"
      ]
     },
     "metadata": {
      "needs_background": "light"
     },
     "output_type": "display_data"
    }
   ],
   "source": [
    "# Plot: degree = 2, Ridge, alpha=30 (Strongly regularized)\n",
    "np.random.seed(2)\n",
    "plot_predictions(raw_data,description,_2008_ridge,_2012_ridge,5)"
   ]
  },
  {
   "cell_type": "code",
   "execution_count": 43,
   "metadata": {},
   "outputs": [],
   "source": [
    "# To CSV:\n",
    "submission.to_csv('data/ridge_poly2_alpha32.csv')"
   ]
  },
  {
   "cell_type": "markdown",
   "metadata": {},
   "source": [
    "### Note:\n",
    "\n",
    "The above is my best model yet with a RMSE = 0.0518 and at the current time of writing this has a current ranked position = 30."
   ]
  },
  {
   "cell_type": "code",
   "execution_count": null,
   "metadata": {},
   "outputs": [],
   "source": []
  },
  {
   "cell_type": "markdown",
   "metadata": {},
   "source": [
    "### Find correlated indicators"
   ]
  },
  {
   "cell_type": "code",
   "execution_count": null,
   "metadata": {},
   "outputs": [],
   "source": []
  },
  {
   "cell_type": "code",
   "execution_count": 44,
   "metadata": {},
   "outputs": [
    {
     "ename": "FileNotFoundError",
     "evalue": "[Errno 2] File b'data/Training_Cleaned_Corr_Tiri.csv' does not exist: b'data/Training_Cleaned_Corr_Tiri.csv'",
     "output_type": "error",
     "traceback": [
      "\u001b[1;31m---------------------------------------------------------------------------\u001b[0m",
      "\u001b[1;31mFileNotFoundError\u001b[0m                         Traceback (most recent call last)",
      "\u001b[1;32m<ipython-input-44-c1f7370f9388>\u001b[0m in \u001b[0;36m<module>\u001b[1;34m\u001b[0m\n\u001b[1;32m----> 1\u001b[1;33m \u001b[0mtrain_with_correlations\u001b[0m \u001b[1;33m=\u001b[0m \u001b[0mpd\u001b[0m\u001b[1;33m.\u001b[0m\u001b[0mread_csv\u001b[0m\u001b[1;33m(\u001b[0m\u001b[1;34m'data/Training_Cleaned_Corr_Tiri.csv'\u001b[0m\u001b[1;33m,\u001b[0m\u001b[0mindex_col\u001b[0m\u001b[1;33m=\u001b[0m\u001b[1;36m0\u001b[0m\u001b[1;33m)\u001b[0m\u001b[1;33m\u001b[0m\u001b[1;33m\u001b[0m\u001b[0m\n\u001b[0m",
      "\u001b[1;32m~\\Miniconda3\\lib\\site-packages\\pandas\\io\\parsers.py\u001b[0m in \u001b[0;36mparser_f\u001b[1;34m(filepath_or_buffer, sep, delimiter, header, names, index_col, usecols, squeeze, prefix, mangle_dupe_cols, dtype, engine, converters, true_values, false_values, skipinitialspace, skiprows, skipfooter, nrows, na_values, keep_default_na, na_filter, verbose, skip_blank_lines, parse_dates, infer_datetime_format, keep_date_col, date_parser, dayfirst, cache_dates, iterator, chunksize, compression, thousands, decimal, lineterminator, quotechar, quoting, doublequote, escapechar, comment, encoding, dialect, error_bad_lines, warn_bad_lines, delim_whitespace, low_memory, memory_map, float_precision)\u001b[0m\n\u001b[0;32m    683\u001b[0m         )\n\u001b[0;32m    684\u001b[0m \u001b[1;33m\u001b[0m\u001b[0m\n\u001b[1;32m--> 685\u001b[1;33m         \u001b[1;32mreturn\u001b[0m \u001b[0m_read\u001b[0m\u001b[1;33m(\u001b[0m\u001b[0mfilepath_or_buffer\u001b[0m\u001b[1;33m,\u001b[0m \u001b[0mkwds\u001b[0m\u001b[1;33m)\u001b[0m\u001b[1;33m\u001b[0m\u001b[1;33m\u001b[0m\u001b[0m\n\u001b[0m\u001b[0;32m    686\u001b[0m \u001b[1;33m\u001b[0m\u001b[0m\n\u001b[0;32m    687\u001b[0m     \u001b[0mparser_f\u001b[0m\u001b[1;33m.\u001b[0m\u001b[0m__name__\u001b[0m \u001b[1;33m=\u001b[0m \u001b[0mname\u001b[0m\u001b[1;33m\u001b[0m\u001b[1;33m\u001b[0m\u001b[0m\n",
      "\u001b[1;32m~\\Miniconda3\\lib\\site-packages\\pandas\\io\\parsers.py\u001b[0m in \u001b[0;36m_read\u001b[1;34m(filepath_or_buffer, kwds)\u001b[0m\n\u001b[0;32m    455\u001b[0m \u001b[1;33m\u001b[0m\u001b[0m\n\u001b[0;32m    456\u001b[0m     \u001b[1;31m# Create the parser.\u001b[0m\u001b[1;33m\u001b[0m\u001b[1;33m\u001b[0m\u001b[1;33m\u001b[0m\u001b[0m\n\u001b[1;32m--> 457\u001b[1;33m     \u001b[0mparser\u001b[0m \u001b[1;33m=\u001b[0m \u001b[0mTextFileReader\u001b[0m\u001b[1;33m(\u001b[0m\u001b[0mfp_or_buf\u001b[0m\u001b[1;33m,\u001b[0m \u001b[1;33m**\u001b[0m\u001b[0mkwds\u001b[0m\u001b[1;33m)\u001b[0m\u001b[1;33m\u001b[0m\u001b[1;33m\u001b[0m\u001b[0m\n\u001b[0m\u001b[0;32m    458\u001b[0m \u001b[1;33m\u001b[0m\u001b[0m\n\u001b[0;32m    459\u001b[0m     \u001b[1;32mif\u001b[0m \u001b[0mchunksize\u001b[0m \u001b[1;32mor\u001b[0m \u001b[0miterator\u001b[0m\u001b[1;33m:\u001b[0m\u001b[1;33m\u001b[0m\u001b[1;33m\u001b[0m\u001b[0m\n",
      "\u001b[1;32m~\\Miniconda3\\lib\\site-packages\\pandas\\io\\parsers.py\u001b[0m in \u001b[0;36m__init__\u001b[1;34m(self, f, engine, **kwds)\u001b[0m\n\u001b[0;32m    893\u001b[0m             \u001b[0mself\u001b[0m\u001b[1;33m.\u001b[0m\u001b[0moptions\u001b[0m\u001b[1;33m[\u001b[0m\u001b[1;34m\"has_index_names\"\u001b[0m\u001b[1;33m]\u001b[0m \u001b[1;33m=\u001b[0m \u001b[0mkwds\u001b[0m\u001b[1;33m[\u001b[0m\u001b[1;34m\"has_index_names\"\u001b[0m\u001b[1;33m]\u001b[0m\u001b[1;33m\u001b[0m\u001b[1;33m\u001b[0m\u001b[0m\n\u001b[0;32m    894\u001b[0m \u001b[1;33m\u001b[0m\u001b[0m\n\u001b[1;32m--> 895\u001b[1;33m         \u001b[0mself\u001b[0m\u001b[1;33m.\u001b[0m\u001b[0m_make_engine\u001b[0m\u001b[1;33m(\u001b[0m\u001b[0mself\u001b[0m\u001b[1;33m.\u001b[0m\u001b[0mengine\u001b[0m\u001b[1;33m)\u001b[0m\u001b[1;33m\u001b[0m\u001b[1;33m\u001b[0m\u001b[0m\n\u001b[0m\u001b[0;32m    896\u001b[0m \u001b[1;33m\u001b[0m\u001b[0m\n\u001b[0;32m    897\u001b[0m     \u001b[1;32mdef\u001b[0m \u001b[0mclose\u001b[0m\u001b[1;33m(\u001b[0m\u001b[0mself\u001b[0m\u001b[1;33m)\u001b[0m\u001b[1;33m:\u001b[0m\u001b[1;33m\u001b[0m\u001b[1;33m\u001b[0m\u001b[0m\n",
      "\u001b[1;32m~\\Miniconda3\\lib\\site-packages\\pandas\\io\\parsers.py\u001b[0m in \u001b[0;36m_make_engine\u001b[1;34m(self, engine)\u001b[0m\n\u001b[0;32m   1133\u001b[0m     \u001b[1;32mdef\u001b[0m \u001b[0m_make_engine\u001b[0m\u001b[1;33m(\u001b[0m\u001b[0mself\u001b[0m\u001b[1;33m,\u001b[0m \u001b[0mengine\u001b[0m\u001b[1;33m=\u001b[0m\u001b[1;34m\"c\"\u001b[0m\u001b[1;33m)\u001b[0m\u001b[1;33m:\u001b[0m\u001b[1;33m\u001b[0m\u001b[1;33m\u001b[0m\u001b[0m\n\u001b[0;32m   1134\u001b[0m         \u001b[1;32mif\u001b[0m \u001b[0mengine\u001b[0m \u001b[1;33m==\u001b[0m \u001b[1;34m\"c\"\u001b[0m\u001b[1;33m:\u001b[0m\u001b[1;33m\u001b[0m\u001b[1;33m\u001b[0m\u001b[0m\n\u001b[1;32m-> 1135\u001b[1;33m             \u001b[0mself\u001b[0m\u001b[1;33m.\u001b[0m\u001b[0m_engine\u001b[0m \u001b[1;33m=\u001b[0m \u001b[0mCParserWrapper\u001b[0m\u001b[1;33m(\u001b[0m\u001b[0mself\u001b[0m\u001b[1;33m.\u001b[0m\u001b[0mf\u001b[0m\u001b[1;33m,\u001b[0m \u001b[1;33m**\u001b[0m\u001b[0mself\u001b[0m\u001b[1;33m.\u001b[0m\u001b[0moptions\u001b[0m\u001b[1;33m)\u001b[0m\u001b[1;33m\u001b[0m\u001b[1;33m\u001b[0m\u001b[0m\n\u001b[0m\u001b[0;32m   1136\u001b[0m         \u001b[1;32melse\u001b[0m\u001b[1;33m:\u001b[0m\u001b[1;33m\u001b[0m\u001b[1;33m\u001b[0m\u001b[0m\n\u001b[0;32m   1137\u001b[0m             \u001b[1;32mif\u001b[0m \u001b[0mengine\u001b[0m \u001b[1;33m==\u001b[0m \u001b[1;34m\"python\"\u001b[0m\u001b[1;33m:\u001b[0m\u001b[1;33m\u001b[0m\u001b[1;33m\u001b[0m\u001b[0m\n",
      "\u001b[1;32m~\\Miniconda3\\lib\\site-packages\\pandas\\io\\parsers.py\u001b[0m in \u001b[0;36m__init__\u001b[1;34m(self, src, **kwds)\u001b[0m\n\u001b[0;32m   1915\u001b[0m         \u001b[0mkwds\u001b[0m\u001b[1;33m[\u001b[0m\u001b[1;34m\"usecols\"\u001b[0m\u001b[1;33m]\u001b[0m \u001b[1;33m=\u001b[0m \u001b[0mself\u001b[0m\u001b[1;33m.\u001b[0m\u001b[0musecols\u001b[0m\u001b[1;33m\u001b[0m\u001b[1;33m\u001b[0m\u001b[0m\n\u001b[0;32m   1916\u001b[0m \u001b[1;33m\u001b[0m\u001b[0m\n\u001b[1;32m-> 1917\u001b[1;33m         \u001b[0mself\u001b[0m\u001b[1;33m.\u001b[0m\u001b[0m_reader\u001b[0m \u001b[1;33m=\u001b[0m \u001b[0mparsers\u001b[0m\u001b[1;33m.\u001b[0m\u001b[0mTextReader\u001b[0m\u001b[1;33m(\u001b[0m\u001b[0msrc\u001b[0m\u001b[1;33m,\u001b[0m \u001b[1;33m**\u001b[0m\u001b[0mkwds\u001b[0m\u001b[1;33m)\u001b[0m\u001b[1;33m\u001b[0m\u001b[1;33m\u001b[0m\u001b[0m\n\u001b[0m\u001b[0;32m   1918\u001b[0m         \u001b[0mself\u001b[0m\u001b[1;33m.\u001b[0m\u001b[0munnamed_cols\u001b[0m \u001b[1;33m=\u001b[0m \u001b[0mself\u001b[0m\u001b[1;33m.\u001b[0m\u001b[0m_reader\u001b[0m\u001b[1;33m.\u001b[0m\u001b[0munnamed_cols\u001b[0m\u001b[1;33m\u001b[0m\u001b[1;33m\u001b[0m\u001b[0m\n\u001b[0;32m   1919\u001b[0m \u001b[1;33m\u001b[0m\u001b[0m\n",
      "\u001b[1;32mpandas\\_libs\\parsers.pyx\u001b[0m in \u001b[0;36mpandas._libs.parsers.TextReader.__cinit__\u001b[1;34m()\u001b[0m\n",
      "\u001b[1;32mpandas\\_libs\\parsers.pyx\u001b[0m in \u001b[0;36mpandas._libs.parsers.TextReader._setup_parser_source\u001b[1;34m()\u001b[0m\n",
      "\u001b[1;31mFileNotFoundError\u001b[0m: [Errno 2] File b'data/Training_Cleaned_Corr_Tiri.csv' does not exist: b'data/Training_Cleaned_Corr_Tiri.csv'"
     ]
    }
   ],
   "source": [
    "\n",
    "#train_with_correlations = pd.read_csv('data/Training_Cleaned_Corr_Tiri.csv',index_col=0)"
   ]
  },
  {
   "cell_type": "code",
   "execution_count": 45,
   "metadata": {},
   "outputs": [
    {
     "data": {
      "text/html": [
       "<div>\n",
       "<style scoped>\n",
       "    .dataframe tbody tr th:only-of-type {\n",
       "        vertical-align: middle;\n",
       "    }\n",
       "\n",
       "    .dataframe tbody tr th {\n",
       "        vertical-align: top;\n",
       "    }\n",
       "\n",
       "    .dataframe thead th {\n",
       "        text-align: right;\n",
       "    }\n",
       "</style>\n",
       "<table border=\"1\" class=\"dataframe\">\n",
       "  <thead>\n",
       "    <tr style=\"text-align: right;\">\n",
       "      <th></th>\n",
       "      <th>2005</th>\n",
       "      <th>2006</th>\n",
       "      <th>2007</th>\n",
       "      <th>Country_Name</th>\n",
       "      <th>Series_Code</th>\n",
       "      <th>Series_Name</th>\n",
       "    </tr>\n",
       "  </thead>\n",
       "  <tbody>\n",
       "    <tr>\n",
       "      <td>0</td>\n",
       "      <td>NaN</td>\n",
       "      <td>NaN</td>\n",
       "      <td>3.769214</td>\n",
       "      <td>Afghanistan</td>\n",
       "      <td>allsi.bi_q1</td>\n",
       "      <td>(%) Benefits held by 1st 20% population - All ...</td>\n",
       "    </tr>\n",
       "    <tr>\n",
       "      <td>1</td>\n",
       "      <td>NaN</td>\n",
       "      <td>NaN</td>\n",
       "      <td>7.027746</td>\n",
       "      <td>Afghanistan</td>\n",
       "      <td>allsp.bi_q1</td>\n",
       "      <td>(%) Benefits held by 1st 20% population - All ...</td>\n",
       "    </tr>\n",
       "    <tr>\n",
       "      <td>2</td>\n",
       "      <td>NaN</td>\n",
       "      <td>NaN</td>\n",
       "      <td>8.244887</td>\n",
       "      <td>Afghanistan</td>\n",
       "      <td>allsa.bi_q1</td>\n",
       "      <td>(%) Benefits held by 1st 20% population - All ...</td>\n",
       "    </tr>\n",
       "    <tr>\n",
       "      <td>4</td>\n",
       "      <td>NaN</td>\n",
       "      <td>NaN</td>\n",
       "      <td>12.933105</td>\n",
       "      <td>Afghanistan</td>\n",
       "      <td>allsi.gen_pop</td>\n",
       "      <td>(%) Generosity of All Social Insurance</td>\n",
       "    </tr>\n",
       "    <tr>\n",
       "      <td>5</td>\n",
       "      <td>NaN</td>\n",
       "      <td>NaN</td>\n",
       "      <td>18.996814</td>\n",
       "      <td>Afghanistan</td>\n",
       "      <td>allsp.gen_pop</td>\n",
       "      <td>(%) Generosity of All Social Protection</td>\n",
       "    </tr>\n",
       "  </tbody>\n",
       "</table>\n",
       "</div>"
      ],
      "text/plain": [
       "   2005  2006       2007 Country_Name    Series_Code  \\\n",
       "0   NaN   NaN   3.769214  Afghanistan    allsi.bi_q1   \n",
       "1   NaN   NaN   7.027746  Afghanistan    allsp.bi_q1   \n",
       "2   NaN   NaN   8.244887  Afghanistan    allsa.bi_q1   \n",
       "4   NaN   NaN  12.933105  Afghanistan  allsi.gen_pop   \n",
       "5   NaN   NaN  18.996814  Afghanistan  allsp.gen_pop   \n",
       "\n",
       "                                         Series_Name  \n",
       "0  (%) Benefits held by 1st 20% population - All ...  \n",
       "1  (%) Benefits held by 1st 20% population - All ...  \n",
       "2  (%) Benefits held by 1st 20% population - All ...  \n",
       "4             (%) Generosity of All Social Insurance  \n",
       "5            (%) Generosity of All Social Protection  "
      ]
     },
     "metadata": {},
     "output_type": "display_data"
    },
    {
     "ename": "NameError",
     "evalue": "name 'train_with_correlations' is not defined",
     "output_type": "error",
     "traceback": [
      "\u001b[1;31m---------------------------------------------------------------------------\u001b[0m",
      "\u001b[1;31mNameError\u001b[0m                                 Traceback (most recent call last)",
      "\u001b[1;32m<ipython-input-45-6ffe8e11f933>\u001b[0m in \u001b[0;36m<module>\u001b[1;34m\u001b[0m\n\u001b[0;32m      1\u001b[0m \u001b[0mdisplay\u001b[0m\u001b[1;33m(\u001b[0m\u001b[0mtrain\u001b[0m\u001b[1;33m.\u001b[0m\u001b[0mhead\u001b[0m\u001b[1;33m(\u001b[0m\u001b[1;33m)\u001b[0m\u001b[1;33m)\u001b[0m\u001b[1;33m\u001b[0m\u001b[1;33m\u001b[0m\u001b[0m\n\u001b[1;32m----> 2\u001b[1;33m \u001b[0mdisplay\u001b[0m\u001b[1;33m(\u001b[0m\u001b[0mtrain_with_correlations\u001b[0m\u001b[1;33m.\u001b[0m\u001b[0mhead\u001b[0m\u001b[1;33m(\u001b[0m\u001b[1;33m)\u001b[0m\u001b[1;33m)\u001b[0m\u001b[1;33m\u001b[0m\u001b[1;33m\u001b[0m\u001b[0m\n\u001b[0m\u001b[0;32m      3\u001b[0m \u001b[1;33m\u001b[0m\u001b[0m\n\u001b[0;32m      4\u001b[0m \u001b[0mprint\u001b[0m\u001b[1;33m(\u001b[0m\u001b[0mtrain\u001b[0m\u001b[1;33m.\u001b[0m\u001b[0mshape\u001b[0m\u001b[1;33m)\u001b[0m\u001b[1;33m\u001b[0m\u001b[1;33m\u001b[0m\u001b[0m\n\u001b[0;32m      5\u001b[0m \u001b[0mprint\u001b[0m\u001b[1;33m(\u001b[0m\u001b[0mtrain_with_correlations\u001b[0m\u001b[1;33m.\u001b[0m\u001b[0mshape\u001b[0m\u001b[1;33m)\u001b[0m\u001b[1;33m\u001b[0m\u001b[1;33m\u001b[0m\u001b[0m\n",
      "\u001b[1;31mNameError\u001b[0m: name 'train_with_correlations' is not defined"
     ]
    }
   ],
   "source": [
    "display(train.head())\n",
    "display(train_with_correlations.head())\n",
    "\n",
    "print(train.shape)\n",
    "print(train_with_correlations.shape)"
   ]
  },
  {
   "cell_type": "code",
   "execution_count": 46,
   "metadata": {},
   "outputs": [
    {
     "data": {
      "text/plain": [
       "(737, 2)"
      ]
     },
     "execution_count": 46,
     "metadata": {},
     "output_type": "execute_result"
    }
   ],
   "source": [
    "submission.shape"
   ]
  },
  {
   "cell_type": "code",
   "execution_count": 47,
   "metadata": {},
   "outputs": [
    {
     "data": {
      "text/plain": [
       "2005                                                      1.12319\n",
       "2006                                                      1.47236\n",
       "2007                                                      1.37593\n",
       "Country_Name                                          Afghanistan\n",
       "Series_Code                                     SH.XPD.PUBL.GX.ZS\n",
       "Series_Name     Health expenditure, public (% of government ex...\n",
       "Name: 511, dtype: object"
      ]
     },
     "execution_count": 47,
     "metadata": {},
     "output_type": "execute_result"
    }
   ],
   "source": [
    "train.loc[511]"
   ]
  },
  {
   "cell_type": "code",
   "execution_count": 48,
   "metadata": {},
   "outputs": [
    {
     "ename": "KeyError",
     "evalue": "\"['2004', '2003'] not in index\"",
     "output_type": "error",
     "traceback": [
      "\u001b[1;31m---------------------------------------------------------------------------\u001b[0m",
      "\u001b[1;31mKeyError\u001b[0m                                  Traceback (most recent call last)",
      "\u001b[1;32m<ipython-input-48-3e2747c79804>\u001b[0m in \u001b[0;36m<module>\u001b[1;34m\u001b[0m\n\u001b[0;32m      1\u001b[0m \u001b[0mkenya_data\u001b[0m \u001b[1;33m=\u001b[0m \u001b[0mtrain\u001b[0m\u001b[1;33m[\u001b[0m\u001b[0mtrain\u001b[0m\u001b[1;33m.\u001b[0m\u001b[0mCountry_Name\u001b[0m \u001b[1;33m==\u001b[0m \u001b[1;34m'Kenya'\u001b[0m\u001b[1;33m]\u001b[0m\u001b[1;33m\u001b[0m\u001b[1;33m\u001b[0m\u001b[0m\n\u001b[1;32m----> 2\u001b[1;33m \u001b[0mkenya_values\u001b[0m \u001b[1;33m=\u001b[0m \u001b[0mkenya_data\u001b[0m\u001b[1;33m[\u001b[0m\u001b[1;33m[\u001b[0m\u001b[0mstr\u001b[0m\u001b[1;33m(\u001b[0m\u001b[0melement\u001b[0m\u001b[1;33m)\u001b[0m \u001b[1;32mfor\u001b[0m \u001b[0melement\u001b[0m \u001b[1;32min\u001b[0m \u001b[0mrange\u001b[0m\u001b[1;33m(\u001b[0m\u001b[1;36m2003\u001b[0m\u001b[1;33m,\u001b[0m\u001b[1;36m2007\u001b[0m\u001b[1;33m)\u001b[0m\u001b[1;33m]\u001b[0m\u001b[1;33m]\u001b[0m\u001b[1;33m.\u001b[0m\u001b[0mvalues\u001b[0m\u001b[1;33m\u001b[0m\u001b[1;33m\u001b[0m\u001b[0m\n\u001b[0m\u001b[0;32m      3\u001b[0m \u001b[1;33m\u001b[0m\u001b[0m\n\u001b[0;32m      4\u001b[0m \u001b[1;31m# get the total number of time series we have for Kenya\u001b[0m\u001b[1;33m\u001b[0m\u001b[1;33m\u001b[0m\u001b[1;33m\u001b[0m\u001b[0m\n\u001b[0;32m      5\u001b[0m \u001b[0mnseries\u001b[0m \u001b[1;33m=\u001b[0m \u001b[0mkenya_values\u001b[0m\u001b[1;33m.\u001b[0m\u001b[0mshape\u001b[0m\u001b[1;33m[\u001b[0m\u001b[1;36m0\u001b[0m\u001b[1;33m]\u001b[0m\u001b[1;33m\u001b[0m\u001b[1;33m\u001b[0m\u001b[0m\n",
      "\u001b[1;32m~\\Miniconda3\\lib\\site-packages\\pandas\\core\\frame.py\u001b[0m in \u001b[0;36m__getitem__\u001b[1;34m(self, key)\u001b[0m\n\u001b[0;32m   2984\u001b[0m             \u001b[1;32mif\u001b[0m \u001b[0mis_iterator\u001b[0m\u001b[1;33m(\u001b[0m\u001b[0mkey\u001b[0m\u001b[1;33m)\u001b[0m\u001b[1;33m:\u001b[0m\u001b[1;33m\u001b[0m\u001b[1;33m\u001b[0m\u001b[0m\n\u001b[0;32m   2985\u001b[0m                 \u001b[0mkey\u001b[0m \u001b[1;33m=\u001b[0m \u001b[0mlist\u001b[0m\u001b[1;33m(\u001b[0m\u001b[0mkey\u001b[0m\u001b[1;33m)\u001b[0m\u001b[1;33m\u001b[0m\u001b[1;33m\u001b[0m\u001b[0m\n\u001b[1;32m-> 2986\u001b[1;33m             \u001b[0mindexer\u001b[0m \u001b[1;33m=\u001b[0m \u001b[0mself\u001b[0m\u001b[1;33m.\u001b[0m\u001b[0mloc\u001b[0m\u001b[1;33m.\u001b[0m\u001b[0m_convert_to_indexer\u001b[0m\u001b[1;33m(\u001b[0m\u001b[0mkey\u001b[0m\u001b[1;33m,\u001b[0m \u001b[0maxis\u001b[0m\u001b[1;33m=\u001b[0m\u001b[1;36m1\u001b[0m\u001b[1;33m,\u001b[0m \u001b[0mraise_missing\u001b[0m\u001b[1;33m=\u001b[0m\u001b[1;32mTrue\u001b[0m\u001b[1;33m)\u001b[0m\u001b[1;33m\u001b[0m\u001b[1;33m\u001b[0m\u001b[0m\n\u001b[0m\u001b[0;32m   2987\u001b[0m \u001b[1;33m\u001b[0m\u001b[0m\n\u001b[0;32m   2988\u001b[0m         \u001b[1;31m# take() does not accept boolean indexers\u001b[0m\u001b[1;33m\u001b[0m\u001b[1;33m\u001b[0m\u001b[1;33m\u001b[0m\u001b[0m\n",
      "\u001b[1;32m~\\Miniconda3\\lib\\site-packages\\pandas\\core\\indexing.py\u001b[0m in \u001b[0;36m_convert_to_indexer\u001b[1;34m(self, obj, axis, is_setter, raise_missing)\u001b[0m\n\u001b[0;32m   1283\u001b[0m                 \u001b[1;31m# When setting, missing keys are not allowed, even with .loc:\u001b[0m\u001b[1;33m\u001b[0m\u001b[1;33m\u001b[0m\u001b[1;33m\u001b[0m\u001b[0m\n\u001b[0;32m   1284\u001b[0m                 \u001b[0mkwargs\u001b[0m \u001b[1;33m=\u001b[0m \u001b[1;33m{\u001b[0m\u001b[1;34m\"raise_missing\"\u001b[0m\u001b[1;33m:\u001b[0m \u001b[1;32mTrue\u001b[0m \u001b[1;32mif\u001b[0m \u001b[0mis_setter\u001b[0m \u001b[1;32melse\u001b[0m \u001b[0mraise_missing\u001b[0m\u001b[1;33m}\u001b[0m\u001b[1;33m\u001b[0m\u001b[1;33m\u001b[0m\u001b[0m\n\u001b[1;32m-> 1285\u001b[1;33m                 \u001b[1;32mreturn\u001b[0m \u001b[0mself\u001b[0m\u001b[1;33m.\u001b[0m\u001b[0m_get_listlike_indexer\u001b[0m\u001b[1;33m(\u001b[0m\u001b[0mobj\u001b[0m\u001b[1;33m,\u001b[0m \u001b[0maxis\u001b[0m\u001b[1;33m,\u001b[0m \u001b[1;33m**\u001b[0m\u001b[0mkwargs\u001b[0m\u001b[1;33m)\u001b[0m\u001b[1;33m[\u001b[0m\u001b[1;36m1\u001b[0m\u001b[1;33m]\u001b[0m\u001b[1;33m\u001b[0m\u001b[1;33m\u001b[0m\u001b[0m\n\u001b[0m\u001b[0;32m   1286\u001b[0m         \u001b[1;32melse\u001b[0m\u001b[1;33m:\u001b[0m\u001b[1;33m\u001b[0m\u001b[1;33m\u001b[0m\u001b[0m\n\u001b[0;32m   1287\u001b[0m             \u001b[1;32mtry\u001b[0m\u001b[1;33m:\u001b[0m\u001b[1;33m\u001b[0m\u001b[1;33m\u001b[0m\u001b[0m\n",
      "\u001b[1;32m~\\Miniconda3\\lib\\site-packages\\pandas\\core\\indexing.py\u001b[0m in \u001b[0;36m_get_listlike_indexer\u001b[1;34m(self, key, axis, raise_missing)\u001b[0m\n\u001b[0;32m   1090\u001b[0m \u001b[1;33m\u001b[0m\u001b[0m\n\u001b[0;32m   1091\u001b[0m         self._validate_read_indexer(\n\u001b[1;32m-> 1092\u001b[1;33m             \u001b[0mkeyarr\u001b[0m\u001b[1;33m,\u001b[0m \u001b[0mindexer\u001b[0m\u001b[1;33m,\u001b[0m \u001b[0mo\u001b[0m\u001b[1;33m.\u001b[0m\u001b[0m_get_axis_number\u001b[0m\u001b[1;33m(\u001b[0m\u001b[0maxis\u001b[0m\u001b[1;33m)\u001b[0m\u001b[1;33m,\u001b[0m \u001b[0mraise_missing\u001b[0m\u001b[1;33m=\u001b[0m\u001b[0mraise_missing\u001b[0m\u001b[1;33m\u001b[0m\u001b[1;33m\u001b[0m\u001b[0m\n\u001b[0m\u001b[0;32m   1093\u001b[0m         )\n\u001b[0;32m   1094\u001b[0m         \u001b[1;32mreturn\u001b[0m \u001b[0mkeyarr\u001b[0m\u001b[1;33m,\u001b[0m \u001b[0mindexer\u001b[0m\u001b[1;33m\u001b[0m\u001b[1;33m\u001b[0m\u001b[0m\n",
      "\u001b[1;32m~\\Miniconda3\\lib\\site-packages\\pandas\\core\\indexing.py\u001b[0m in \u001b[0;36m_validate_read_indexer\u001b[1;34m(self, key, indexer, axis, raise_missing)\u001b[0m\n\u001b[0;32m   1183\u001b[0m             \u001b[1;32mif\u001b[0m \u001b[1;32mnot\u001b[0m \u001b[1;33m(\u001b[0m\u001b[0mself\u001b[0m\u001b[1;33m.\u001b[0m\u001b[0mname\u001b[0m \u001b[1;33m==\u001b[0m \u001b[1;34m\"loc\"\u001b[0m \u001b[1;32mand\u001b[0m \u001b[1;32mnot\u001b[0m \u001b[0mraise_missing\u001b[0m\u001b[1;33m)\u001b[0m\u001b[1;33m:\u001b[0m\u001b[1;33m\u001b[0m\u001b[1;33m\u001b[0m\u001b[0m\n\u001b[0;32m   1184\u001b[0m                 \u001b[0mnot_found\u001b[0m \u001b[1;33m=\u001b[0m \u001b[0mlist\u001b[0m\u001b[1;33m(\u001b[0m\u001b[0mset\u001b[0m\u001b[1;33m(\u001b[0m\u001b[0mkey\u001b[0m\u001b[1;33m)\u001b[0m \u001b[1;33m-\u001b[0m \u001b[0mset\u001b[0m\u001b[1;33m(\u001b[0m\u001b[0max\u001b[0m\u001b[1;33m)\u001b[0m\u001b[1;33m)\u001b[0m\u001b[1;33m\u001b[0m\u001b[1;33m\u001b[0m\u001b[0m\n\u001b[1;32m-> 1185\u001b[1;33m                 \u001b[1;32mraise\u001b[0m \u001b[0mKeyError\u001b[0m\u001b[1;33m(\u001b[0m\u001b[1;34m\"{} not in index\"\u001b[0m\u001b[1;33m.\u001b[0m\u001b[0mformat\u001b[0m\u001b[1;33m(\u001b[0m\u001b[0mnot_found\u001b[0m\u001b[1;33m)\u001b[0m\u001b[1;33m)\u001b[0m\u001b[1;33m\u001b[0m\u001b[1;33m\u001b[0m\u001b[0m\n\u001b[0m\u001b[0;32m   1186\u001b[0m \u001b[1;33m\u001b[0m\u001b[0m\n\u001b[0;32m   1187\u001b[0m             \u001b[1;31m# we skip the warning on Categorical/Interval\u001b[0m\u001b[1;33m\u001b[0m\u001b[1;33m\u001b[0m\u001b[1;33m\u001b[0m\u001b[0m\n",
      "\u001b[1;31mKeyError\u001b[0m: \"['2004', '2003'] not in index\""
     ]
    }
   ],
   "source": [
    "kenya_data = train[train.Country_Name == 'Kenya']\n",
    "kenya_values = kenya_data[[str(element) for element in range(2003,2007)]].values\n",
    "\n",
    "# get the total number of time series we have for Kenya\n",
    "nseries = kenya_values.shape[0]\n",
    "\n",
    "# -1 as default\n",
    "lag_corr_mat = np.ones([nseries, nseries], dtype=np.float64)*-1\n",
    "\n",
    "# create a matrix to hold our lagged correlations\n",
    "for i in range(nseries):\n",
    "    for j in range(nseries):\n",
    "        # skip comparing a series with itself\n",
    "        if i!=j:\n",
    "            # get original (1972-2006) and shifted (1973-2007)\n",
    "            original = kenya_values[i,1:]\n",
    "            shifted = kenya_values[j,:-1]\n",
    "\n",
    "            # for just the indices where neither is nan\n",
    "            non_nan_mask = (~np.isnan(original) & ~np.isnan(shifted))\n",
    "\n",
    "            # if we have at least 2 data points\n",
    "            if non_nan_mask.sum() >= 2:\n",
    "                lag_corr_mat[i,j] = np.correlate(original[non_nan_mask], shifted[non_nan_mask])"
   ]
  },
  {
   "cell_type": "code",
   "execution_count": null,
   "metadata": {},
   "outputs": [],
   "source": [
    "# let's look at one of the indicators we are suppoed to predict\n",
    "to_predict_ix = 131042 \n",
    "\n",
    "# first, we get the index of that row in the correlation matrix\n",
    "i = np.where(kenya_data.index.values == to_predict_ix)[0][0]\n",
    "\n",
    "# then, we see which value in the matrix is the largest for that row\n",
    "j_max = np.argmax(lag_corr_mat[i,:])\n",
    "\n",
    "# finally, let's see what these correspond to\n",
    "max_corr_ix = kenya_data.index.values[j_max]\n",
    "\n",
    "# # now write out what we've found\n",
    "# fmt_string = \"In Kenya, the progress of '{}' is \"\\\n",
    "#     \"most correlated with a change in '{}' during the year before.\"\n",
    "    \n",
    "# print(kenya_data[\"Series Name\"][to_predict_ix], kenya_data[\"Series Name\"][max_corr_ix])\n",
    "print(kenya_data.loc[to_predict_ix])\n",
    "print()\n",
    "print(kenya_data.loc[max_corr_ix])"
   ]
  },
  {
   "cell_type": "code",
   "execution_count": null,
   "metadata": {},
   "outputs": [],
   "source": [
    "from sklearn.preprocessing import MinMaxScaler\n",
    "correlated_indicators=kenya_data[kenya_data.index.isin([to_predict_ix,max_corr_ix])].loc[:,'2002':'2007'].T\n",
    "\n",
    "pd.DataFrame(\n",
    "    MinMaxScaler().fit_transform(correlated_indicators), \n",
    "    columns=correlated_indicators.columns, \n",
    "    index=correlated_indicators.index).plot()"
   ]
  },
  {
   "cell_type": "code",
   "execution_count": null,
   "metadata": {},
   "outputs": [],
   "source": []
  }
 ],
 "metadata": {
  "kernelspec": {
   "display_name": "Python 3",
   "language": "python",
   "name": "python3"
  },
  "language_info": {
   "codemirror_mode": {
    "name": "ipython",
    "version": 3
   },
   "file_extension": ".py",
   "mimetype": "text/x-python",
   "name": "python",
   "nbconvert_exporter": "python",
   "pygments_lexer": "ipython3",
   "version": "3.7.3"
  },
  "toc": {
   "base_numbering": 1,
   "nav_menu": {},
   "number_sections": true,
   "sideBar": true,
   "skip_h1_title": false,
   "title_cell": "Table of Contents",
   "title_sidebar": "Contents",
   "toc_cell": false,
   "toc_position": {},
   "toc_section_display": true,
   "toc_window_display": false
  }
 },
 "nbformat": 4,
 "nbformat_minor": 4
}
