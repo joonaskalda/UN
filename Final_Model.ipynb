{
 "cells": [
  {
   "cell_type": "markdown",
   "metadata": {},
   "source": [
    "### Linear Regression Model\n",
    "\n",
    "We will proceed initially to use the last 3 years to model the data with a simple linear regression."
   ]
  },
  {
   "cell_type": "code",
   "execution_count": 62,
   "metadata": {},
   "outputs": [],
   "source": [
    "import numpy as np\n",
    "import pandas as pd\n",
    "import matplotlib.pyplot as plt\n",
    "from sklearn.linear_model import LinearRegression, Ridge\n",
    "from sklearn.preprocessing import PolynomialFeatures\n",
    "from sklearn.pipeline import Pipeline\n",
    "from collections import defaultdict\n",
    "import re"
   ]
  },
  {
   "cell_type": "code",
   "execution_count": 63,
   "metadata": {},
   "outputs": [],
   "source": [
    "year_from = 2005\n",
    "\n",
    "def load_data(year_from):  \n",
    "    assert isinstance(year_from,int)\n",
    "    # Imports\n",
    "    train = pd.read_csv('data/TrainingSet.csv',index_col=0)\n",
    "    submission = pd.read_csv('data/SubmissionRows.csv',index_col=0)\n",
    "    # Remove [YR****] and input '_' for last 3 cols\n",
    "    train.columns = list(map(lambda x: re.findall(r'\\d+',x)[0],train.columns[:36])) + list(map(lambda x: '_'.join(x.split()),train.columns[36:]))\n",
    "    # Use last 3 years for predictions: This is subjected to change\n",
    "    train = train.loc[:,f'{year_from}':]\n",
    "    return train, submission"
   ]
  },
  {
   "cell_type": "code",
   "execution_count": 64,
   "metadata": {},
   "outputs": [],
   "source": [
    "# Load data:\n",
    "train, submission = load_data(2005)"
   ]
  },
  {
   "cell_type": "code",
   "execution_count": 65,
   "metadata": {},
   "outputs": [],
   "source": [
    "def submission_data_missing(train,submission):    \n",
    "    mask  = train.loc[submission.index,].T.isna().sum()>0\n",
    "    train_X = train.loc[submission.index,]\n",
    "    return train_X.loc[mask]"
   ]
  },
  {
   "cell_type": "code",
   "execution_count": 66,
   "metadata": {},
   "outputs": [
    {
     "data": {
      "text/plain": [
       "559       0\n",
       "618       0\n",
       "753       0\n",
       "1030      0\n",
       "1896      0\n",
       "         ..\n",
       "284474    0\n",
       "285340    0\n",
       "285399    0\n",
       "285534    0\n",
       "285811    0\n",
       "Length: 737, dtype: int64"
      ]
     },
     "execution_count": 66,
     "metadata": {},
     "output_type": "execute_result"
    }
   ],
   "source": [
    "train.loc[submission.index,].T.isna().sum()"
   ]
  },
  {
   "cell_type": "code",
   "execution_count": 67,
   "metadata": {},
   "outputs": [
    {
     "data": {
      "text/html": [
       "<div>\n",
       "<style scoped>\n",
       "    .dataframe tbody tr th:only-of-type {\n",
       "        vertical-align: middle;\n",
       "    }\n",
       "\n",
       "    .dataframe tbody tr th {\n",
       "        vertical-align: top;\n",
       "    }\n",
       "\n",
       "    .dataframe thead th {\n",
       "        text-align: right;\n",
       "    }\n",
       "</style>\n",
       "<table border=\"1\" class=\"dataframe\">\n",
       "  <thead>\n",
       "    <tr style=\"text-align: right;\">\n",
       "      <th></th>\n",
       "      <th>2005</th>\n",
       "      <th>2006</th>\n",
       "      <th>2007</th>\n",
       "      <th>Country_Name</th>\n",
       "      <th>Series_Code</th>\n",
       "      <th>Series_Name</th>\n",
       "    </tr>\n",
       "  </thead>\n",
       "  <tbody>\n",
       "    <tr>\n",
       "      <td>8038</td>\n",
       "      <td>NaN</td>\n",
       "      <td>NaN</td>\n",
       "      <td>0.918215</td>\n",
       "      <td>Antigua and Barbuda</td>\n",
       "      <td>2.1</td>\n",
       "      <td>Achieve universal primary education</td>\n",
       "    </tr>\n",
       "    <tr>\n",
       "      <td>23347</td>\n",
       "      <td>NaN</td>\n",
       "      <td>0.162000</td>\n",
       "      <td>0.197000</td>\n",
       "      <td>Belarus</td>\n",
       "      <td>8.16</td>\n",
       "      <td>Develop a global partnership for development: ...</td>\n",
       "    </tr>\n",
       "    <tr>\n",
       "      <td>42800</td>\n",
       "      <td>NaN</td>\n",
       "      <td>0.982781</td>\n",
       "      <td>0.983149</td>\n",
       "      <td>Cambodia</td>\n",
       "      <td>2.1</td>\n",
       "      <td>Achieve universal primary education</td>\n",
       "    </tr>\n",
       "    <tr>\n",
       "      <td>52159</td>\n",
       "      <td>NaN</td>\n",
       "      <td>NaN</td>\n",
       "      <td>0.949294</td>\n",
       "      <td>Chile</td>\n",
       "      <td>2.1</td>\n",
       "      <td>Achieve universal primary education</td>\n",
       "    </tr>\n",
       "    <tr>\n",
       "      <td>64882</td>\n",
       "      <td>0.000373</td>\n",
       "      <td>NaN</td>\n",
       "      <td>0.000213</td>\n",
       "      <td>Cuba</td>\n",
       "      <td>5.1</td>\n",
       "      <td>Improve maternal health</td>\n",
       "    </tr>\n",
       "    <tr>\n",
       "      <td>80838</td>\n",
       "      <td>NaN</td>\n",
       "      <td>NaN</td>\n",
       "      <td>0.004100</td>\n",
       "      <td>Eritrea</td>\n",
       "      <td>8.16</td>\n",
       "      <td>Develop a global partnership for development: ...</td>\n",
       "    </tr>\n",
       "    <tr>\n",
       "      <td>85584</td>\n",
       "      <td>NaN</td>\n",
       "      <td>0.988391</td>\n",
       "      <td>0.996179</td>\n",
       "      <td>Fiji</td>\n",
       "      <td>2.1</td>\n",
       "      <td>Achieve universal primary education</td>\n",
       "    </tr>\n",
       "    <tr>\n",
       "      <td>105595</td>\n",
       "      <td>0.014000</td>\n",
       "      <td>NaN</td>\n",
       "      <td>0.045000</td>\n",
       "      <td>Guinea</td>\n",
       "      <td>6.7</td>\n",
       "      <td>Combat malaria and other diseases</td>\n",
       "    </tr>\n",
       "    <tr>\n",
       "      <td>107578</td>\n",
       "      <td>NaN</td>\n",
       "      <td>NaN</td>\n",
       "      <td>0.138000</td>\n",
       "      <td>Guyana</td>\n",
       "      <td>8.16</td>\n",
       "      <td>Develop a global partnership for development: ...</td>\n",
       "    </tr>\n",
       "    <tr>\n",
       "      <td>146351</td>\n",
       "      <td>NaN</td>\n",
       "      <td>NaN</td>\n",
       "      <td>0.005514</td>\n",
       "      <td>Liberia</td>\n",
       "      <td>8.16</td>\n",
       "      <td>Develop a global partnership for development: ...</td>\n",
       "    </tr>\n",
       "    <tr>\n",
       "      <td>173091</td>\n",
       "      <td>NaN</td>\n",
       "      <td>NaN</td>\n",
       "      <td>0.090000</td>\n",
       "      <td>Mongolia</td>\n",
       "      <td>8.16</td>\n",
       "      <td>Develop a global partnership for development: ...</td>\n",
       "    </tr>\n",
       "    <tr>\n",
       "      <td>209925</td>\n",
       "      <td>NaN</td>\n",
       "      <td>0.926961</td>\n",
       "      <td>0.932826</td>\n",
       "      <td>Russian Federation</td>\n",
       "      <td>2.1</td>\n",
       "      <td>Achieve universal primary education</td>\n",
       "    </tr>\n",
       "    <tr>\n",
       "      <td>211864</td>\n",
       "      <td>0.005560</td>\n",
       "      <td>NaN</td>\n",
       "      <td>0.021154</td>\n",
       "      <td>Rwanda</td>\n",
       "      <td>8.16</td>\n",
       "      <td>Develop a global partnership for development: ...</td>\n",
       "    </tr>\n",
       "    <tr>\n",
       "      <td>236665</td>\n",
       "      <td>0.956291</td>\n",
       "      <td>NaN</td>\n",
       "      <td>0.898415</td>\n",
       "      <td>St. Kitts and Nevis</td>\n",
       "      <td>2.1</td>\n",
       "      <td>Achieve universal primary education</td>\n",
       "    </tr>\n",
       "    <tr>\n",
       "      <td>240676</td>\n",
       "      <td>0.982794</td>\n",
       "      <td>NaN</td>\n",
       "      <td>0.984301</td>\n",
       "      <td>St. Vincent and the Grenadines</td>\n",
       "      <td>2.1</td>\n",
       "      <td>Achieve universal primary education</td>\n",
       "    </tr>\n",
       "    <tr>\n",
       "      <td>265344</td>\n",
       "      <td>NaN</td>\n",
       "      <td>NaN</td>\n",
       "      <td>0.100000</td>\n",
       "      <td>Tuvalu</td>\n",
       "      <td>8.16</td>\n",
       "      <td>Develop a global partnership for development: ...</td>\n",
       "    </tr>\n",
       "  </tbody>\n",
       "</table>\n",
       "</div>"
      ],
      "text/plain": [
       "            2005      2006      2007                    Country_Name  \\\n",
       "8038         NaN       NaN  0.918215             Antigua and Barbuda   \n",
       "23347        NaN  0.162000  0.197000                         Belarus   \n",
       "42800        NaN  0.982781  0.983149                        Cambodia   \n",
       "52159        NaN       NaN  0.949294                           Chile   \n",
       "64882   0.000373       NaN  0.000213                            Cuba   \n",
       "80838        NaN       NaN  0.004100                         Eritrea   \n",
       "85584        NaN  0.988391  0.996179                            Fiji   \n",
       "105595  0.014000       NaN  0.045000                          Guinea   \n",
       "107578       NaN       NaN  0.138000                          Guyana   \n",
       "146351       NaN       NaN  0.005514                         Liberia   \n",
       "173091       NaN       NaN  0.090000                        Mongolia   \n",
       "209925       NaN  0.926961  0.932826              Russian Federation   \n",
       "211864  0.005560       NaN  0.021154                          Rwanda   \n",
       "236665  0.956291       NaN  0.898415             St. Kitts and Nevis   \n",
       "240676  0.982794       NaN  0.984301  St. Vincent and the Grenadines   \n",
       "265344       NaN       NaN  0.100000                          Tuvalu   \n",
       "\n",
       "       Series_Code                                        Series_Name  \n",
       "8038           2.1                Achieve universal primary education  \n",
       "23347         8.16  Develop a global partnership for development: ...  \n",
       "42800          2.1                Achieve universal primary education  \n",
       "52159          2.1                Achieve universal primary education  \n",
       "64882          5.1                            Improve maternal health  \n",
       "80838         8.16  Develop a global partnership for development: ...  \n",
       "85584          2.1                Achieve universal primary education  \n",
       "105595         6.7                  Combat malaria and other diseases  \n",
       "107578        8.16  Develop a global partnership for development: ...  \n",
       "146351        8.16  Develop a global partnership for development: ...  \n",
       "173091        8.16  Develop a global partnership for development: ...  \n",
       "209925         2.1                Achieve universal primary education  \n",
       "211864        8.16  Develop a global partnership for development: ...  \n",
       "236665         2.1                Achieve universal primary education  \n",
       "240676         2.1                Achieve universal primary education  \n",
       "265344        8.16  Develop a global partnership for development: ...  "
      ]
     },
     "execution_count": 67,
     "metadata": {},
     "output_type": "execute_result"
    }
   ],
   "source": [
    "# 16 rows with missing values: Interpolate these values\n",
    "submission_data_missing(train,submission)"
   ]
  },
  {
   "cell_type": "code",
   "execution_count": 68,
   "metadata": {},
   "outputs": [],
   "source": [
    "def interpolate_data(train,submission):\n",
    "    train_X = train.loc[submission.index,:]\n",
    "    # Interpolate: Both directions are bfilled and ffilled respectively\n",
    "    train_X.loc[:,:'2007'] = train_X.loc[:,:'2007'].interpolate(limit_direction='both',axis=1)\n",
    "    return train_X"
   ]
  },
  {
   "cell_type": "code",
   "execution_count": 69,
   "metadata": {},
   "outputs": [],
   "source": [
    "# Data:\n",
    "data = interpolate_data(train,submission)\n",
    "\n",
    "# Func to split that dataframe to values [2005,2006,2007] and [country_name,series_code,series_name]\n",
    "def split_dataframe(data):\n",
    "    raw_data = data.loc[:,:'2007']\n",
    "    description = data.loc[:,'Country_Name':]\n",
    "    return raw_data,description"
   ]
  },
  {
   "cell_type": "code",
   "execution_count": 70,
   "metadata": {},
   "outputs": [
    {
     "data": {
      "text/plain": [
       "2005                                       0.918215\n",
       "2006                                       0.918215\n",
       "2007                                       0.918215\n",
       "Country_Name                    Antigua and Barbuda\n",
       "Series_Code                                     2.1\n",
       "Series_Name     Achieve universal primary education\n",
       "Name: 8038, dtype: object"
      ]
     },
     "execution_count": 70,
     "metadata": {},
     "output_type": "execute_result"
    }
   ],
   "source": [
    "data.loc[8038]"
   ]
  },
  {
   "cell_type": "code",
   "execution_count": 71,
   "metadata": {},
   "outputs": [],
   "source": [
    "# Split:\n",
    "raw_data,description = split_dataframe(data)"
   ]
  },
  {
   "cell_type": "code",
   "execution_count": 72,
   "metadata": {},
   "outputs": [],
   "source": [
    "# Export CSV:\n",
    "raw_data.to_csv('data/raw_data.csv')\n",
    "description.to_csv('data/description.csv')"
   ]
  },
  {
   "cell_type": "code",
   "execution_count": 73,
   "metadata": {},
   "outputs": [],
   "source": [
    "def format_dataframe(raw_data):\n",
    "    \"\"\"\n",
    "    Quick utility function to format dataframe into a X,y format with X = Numbers of years from the start, y = values.\n",
    "    Example:\n",
    "    Initial Dataframe being:\n",
    "    2005   0.4\n",
    "    2006   0.6\n",
    "    2007   0.8\n",
    "    \n",
    "    The function transforms it into\n",
    "    X   y\n",
    "    0   0.4\n",
    "    1   0.6\n",
    "    2   0.8\n",
    "    \n",
    "    Returns: X,y\n",
    "    \n",
    "    Note: If we have 10 different timeseries (features) X.shape = (n_years,n_features) so slicing will be needed to predict\n",
    "    individually.\n",
    "    \"\"\"\n",
    "    # Extract index from raw data before transforming:\n",
    "    raw_data_index = list(raw_data.index)\n",
    "    raw_data.columns = raw_data.columns.astype('int')\n",
    "    # Transponse to have time as index instead of columns\n",
    "    raw_data = raw_data.T\n",
    "    X = np.asarray(raw_data.index - raw_data.index[0]).reshape(-1,1)\n",
    "    y = raw_data.values\n",
    "    return X,y,raw_data_index"
   ]
  },
  {
   "cell_type": "code",
   "execution_count": 74,
   "metadata": {},
   "outputs": [],
   "source": [
    "X,y,raw_data_index = format_dataframe(raw_data)"
   ]
  },
  {
   "cell_type": "code",
   "execution_count": 75,
   "metadata": {},
   "outputs": [],
   "source": [
    "def linear_regression_poly(X,y,degree,year):\n",
    "    assert isinstance(X,np.ndarray)\n",
    "    assert isinstance(y,np.ndarray)\n",
    "    assert isinstance(degree,int) and degree > 0\n",
    "    assert year >= 2005\n",
    "    year_pred = np.array([[year % year_from]])\n",
    "    pipe = Pipeline([('poly',PolynomialFeatures(degree=degree)),('linear',LinearRegression())])\n",
    "    n_features = y.shape[1]\n",
    "    predictions_year = defaultdict(list)\n",
    "    # Fit:\n",
    "    for i in range(n_features):\n",
    "        # slice each series:\n",
    "        y_i = y[:,i]\n",
    "        pipe.fit(X,y_i)\n",
    "        # prediction value for year specified\n",
    "        y_pred = pipe.predict(year_pred)[0]\n",
    "        predictions_year[f'{year}[YR{year}]'].append(y_pred)\n",
    "    \n",
    "     # To dataframe: with correctly indexed submission values\n",
    "    df = pd.DataFrame(predictions_year,index=raw_data_index)\n",
    "    return df\n",
    "        "
   ]
  },
  {
   "cell_type": "code",
   "execution_count": 76,
   "metadata": {},
   "outputs": [
    {
     "data": {
      "text/html": [
       "<div>\n",
       "<style scoped>\n",
       "    .dataframe tbody tr th:only-of-type {\n",
       "        vertical-align: middle;\n",
       "    }\n",
       "\n",
       "    .dataframe tbody tr th {\n",
       "        vertical-align: top;\n",
       "    }\n",
       "\n",
       "    .dataframe thead th {\n",
       "        text-align: right;\n",
       "    }\n",
       "</style>\n",
       "<table border=\"1\" class=\"dataframe\">\n",
       "  <thead>\n",
       "    <tr style=\"text-align: right;\">\n",
       "      <th></th>\n",
       "      <th>2008 [YR2008]</th>\n",
       "      <th>2012 [YR2012]</th>\n",
       "    </tr>\n",
       "  </thead>\n",
       "  <tbody>\n",
       "    <tr>\n",
       "      <td>559</td>\n",
       "      <td>0.500000</td>\n",
       "      <td>0.640000</td>\n",
       "    </tr>\n",
       "    <tr>\n",
       "      <td>618</td>\n",
       "      <td>0.024196</td>\n",
       "      <td>0.037713</td>\n",
       "    </tr>\n",
       "    <tr>\n",
       "      <td>753</td>\n",
       "      <td>0.108367</td>\n",
       "      <td>0.095967</td>\n",
       "    </tr>\n",
       "    <tr>\n",
       "      <td>1030</td>\n",
       "      <td>0.001000</td>\n",
       "      <td>0.001000</td>\n",
       "    </tr>\n",
       "    <tr>\n",
       "      <td>1896</td>\n",
       "      <td>0.960667</td>\n",
       "      <td>0.958667</td>\n",
       "    </tr>\n",
       "  </tbody>\n",
       "</table>\n",
       "</div>"
      ],
      "text/plain": [
       "      2008 [YR2008]  2012 [YR2012]\n",
       "559        0.500000       0.640000\n",
       "618        0.024196       0.037713\n",
       "753        0.108367       0.095967\n",
       "1030       0.001000       0.001000\n",
       "1896       0.960667       0.958667"
      ]
     },
     "execution_count": 76,
     "metadata": {},
     "output_type": "execute_result"
    }
   ],
   "source": [
    "# Predictions: Polynomial degree = 1:\n",
    "_2008 = linear_regression_poly(X,y,1,2008).values\n",
    "_2012 = linear_regression_poly(X,y,1,2012).values\n",
    "\n",
    "# Into submission:\n",
    "submission['2008 [YR2008]'] = _2008\n",
    "submission['2012 [YR2012]'] = _2012\n",
    "submission.head()"
   ]
  },
  {
   "cell_type": "code",
   "execution_count": 77,
   "metadata": {},
   "outputs": [],
   "source": [
    "# Index mapper for plotting:\n",
    "index_mapper = {k:index for index,k in enumerate(raw_data_index)}\n",
    "\n",
    "# Plotting:\n",
    "def plot_predictions(raw_data,description,pred_2008,pred_2012,n_features):\n",
    "    pred_2008_values = pred_2008\n",
    "    pred_2012_values = pred_2012\n",
    "    pred_concat = np.concatenate([pred_2008_values,pred_2012_values],axis=1)\n",
    "    random_indicators = np.random.choice(raw_data_index,size=n_features)\n",
    "    # plot:\n",
    "    fig,ax = plt.subplots(1,1,figsize=(14,8))\n",
    "    ax.set_title(f'Values from {year_from} including pred: 2008, 2012')\n",
    "    for i in random_indicators:\n",
    "        values = raw_data.T.loc[:,i].values\n",
    "        ax.plot([str(x) for x in range(year_from,2008)],values,label=f'{description.Country_Name[i]} : {description.Series_Name[i]}',marker='o')\n",
    "        ax.plot(['2008','2012'],pred_concat[index_mapper[i],:],linestyle='--', label=f'{description.Country_Name[i]} : {description.Series_Name[i]} PRED',marker='o')\n",
    "        ax.legend()"
   ]
  },
  {
   "cell_type": "code",
   "execution_count": 79,
   "metadata": {},
   "outputs": [
    {
     "data": {
      "image/png": "[encoded data removed]",
      "text/plain": [
       "<Figure size 1008x576 with 1 Axes>"
      ]
     },
     "metadata": {
      "needs_background": "light"
     },
     "output_type": "display_data"
    }
   ],
   "source": [
    "# Plot:\n",
    "np.random.seed(2)\n",
    "plot_predictions(raw_data,description,_2008,_2012,2)"
   ]
  },
  {
   "cell_type": "code",
   "execution_count": 80,
   "metadata": {},
   "outputs": [
    {
     "data": {
      "text/html": [
       "<div>\n",
       "<style scoped>\n",
       "    .dataframe tbody tr th:only-of-type {\n",
       "        vertical-align: middle;\n",
       "    }\n",
       "\n",
       "    .dataframe tbody tr th {\n",
       "        vertical-align: top;\n",
       "    }\n",
       "\n",
       "    .dataframe thead th {\n",
       "        text-align: right;\n",
       "    }\n",
       "</style>\n",
       "<table border=\"1\" class=\"dataframe\">\n",
       "  <thead>\n",
       "    <tr style=\"text-align: right;\">\n",
       "      <th></th>\n",
       "      <th>2008 [YR2008]</th>\n",
       "      <th>2012 [YR2012]</th>\n",
       "    </tr>\n",
       "  </thead>\n",
       "  <tbody>\n",
       "    <tr>\n",
       "      <td>559</td>\n",
       "      <td>0.500000</td>\n",
       "      <td>0.640000</td>\n",
       "    </tr>\n",
       "    <tr>\n",
       "      <td>618</td>\n",
       "      <td>0.006028</td>\n",
       "      <td>-0.154871</td>\n",
       "    </tr>\n",
       "    <tr>\n",
       "      <td>753</td>\n",
       "      <td>0.108700</td>\n",
       "      <td>0.099500</td>\n",
       "    </tr>\n",
       "    <tr>\n",
       "      <td>1030</td>\n",
       "      <td>0.001000</td>\n",
       "      <td>0.001000</td>\n",
       "    </tr>\n",
       "    <tr>\n",
       "      <td>1896</td>\n",
       "      <td>0.959000</td>\n",
       "      <td>0.941000</td>\n",
       "    </tr>\n",
       "  </tbody>\n",
       "</table>\n",
       "</div>"
      ],
      "text/plain": [
       "      2008 [YR2008]  2012 [YR2012]\n",
       "559        0.500000       0.640000\n",
       "618        0.006028      -0.154871\n",
       "753        0.108700       0.099500\n",
       "1030       0.001000       0.001000\n",
       "1896       0.959000       0.941000"
      ]
     },
     "execution_count": 80,
     "metadata": {},
     "output_type": "execute_result"
    }
   ],
   "source": [
    "# Predictions: Polynomial degree = 2:\n",
    "_2008 = linear_regression_poly(X,y,2,2008).values\n",
    "_2012 = linear_regression_poly(X,y,2,2012).values\n",
    "\n",
    "# Into submission:\n",
    "submission['2008 [YR2008]'] = _2008\n",
    "submission['2012 [YR2012]'] = _2012\n",
    "submission.head()"
   ]
  },
  {
   "cell_type": "code",
   "execution_count": 81,
   "metadata": {},
   "outputs": [
    {
     "data": {
      "image/png": "[encoded data removed]",
      "text/plain": [
       "<Figure size 1008x576 with 1 Axes>"
      ]
     },
     "metadata": {
      "needs_background": "light"
     },
     "output_type": "display_data"
    }
   ],
   "source": [
    "# Plot: degree = 2\n",
    "np.random.seed(2)\n",
    "plot_predictions(raw_data,description,_2008,_2012,2)"
   ]
  },
  {
   "cell_type": "markdown",
   "metadata": {},
   "source": [
    "### Note:\n",
    "\n",
    "Values from linear regression with degree = 1 scored higher (RMSE = 0.0549). Degree = 2 scored RMSE = 0.2483."
   ]
  },
  {
   "cell_type": "markdown",
   "metadata": {},
   "source": [
    "### Ridge Regression:\n",
    "\n",
    "Adding regularization to possibly dampen the effects of a polynomial of degree 2."
   ]
  },
  {
   "cell_type": "code",
   "execution_count": 82,
   "metadata": {},
   "outputs": [],
   "source": [
    "def ridge_regression_poly(X,y,degree,year,alpha):\n",
    "    assert isinstance(X,np.ndarray)\n",
    "    assert isinstance(y,np.ndarray)\n",
    "    assert isinstance(degree,int) and degree > 0\n",
    "    assert year >= 2005\n",
    "    year_pred = np.array([[year % year_from]])\n",
    "    pipe = Pipeline([('poly',PolynomialFeatures(degree=degree)),('linear',Ridge(alpha=alpha))])\n",
    "    n_features = y.shape[1]\n",
    "    predictions_year = defaultdict(list)\n",
    "    # Fit:\n",
    "    for i in range(n_features):\n",
    "        # slice each series:\n",
    "        y_i = y[:,i]\n",
    "        pipe.fit(X,y_i)\n",
    "        # prediction value for year specified\n",
    "        y_pred = pipe.predict(year_pred)[0]\n",
    "        predictions_year[f'{year}[YR{year}]'].append(y_pred)\n",
    "    \n",
    "     # To dataframe: with correctly indexed submission values\n",
    "    df = pd.DataFrame(predictions_year,index=raw_data_index)\n",
    "    return df"
   ]
  },
  {
   "cell_type": "code",
   "execution_count": 93,
   "metadata": {},
   "outputs": [
    {
     "data": {
      "text/html": [
       "<div>\n",
       "<style scoped>\n",
       "    .dataframe tbody tr th:only-of-type {\n",
       "        vertical-align: middle;\n",
       "    }\n",
       "\n",
       "    .dataframe tbody tr th {\n",
       "        vertical-align: top;\n",
       "    }\n",
       "\n",
       "    .dataframe thead th {\n",
       "        text-align: right;\n",
       "    }\n",
       "</style>\n",
       "<table border=\"1\" class=\"dataframe\">\n",
       "  <thead>\n",
       "    <tr style=\"text-align: right;\">\n",
       "      <th></th>\n",
       "      <th>2008 [YR2008]</th>\n",
       "      <th>2012 [YR2012]</th>\n",
       "    </tr>\n",
       "  </thead>\n",
       "  <tbody>\n",
       "    <tr>\n",
       "      <td>559</td>\n",
       "      <td>0.492566</td>\n",
       "      <td>0.584353</td>\n",
       "    </tr>\n",
       "    <tr>\n",
       "      <td>618</td>\n",
       "      <td>0.021903</td>\n",
       "      <td>0.028417</td>\n",
       "    </tr>\n",
       "    <tr>\n",
       "      <td>753</td>\n",
       "      <td>0.109054</td>\n",
       "      <td>0.100967</td>\n",
       "    </tr>\n",
       "    <tr>\n",
       "      <td>1030</td>\n",
       "      <td>0.001000</td>\n",
       "      <td>0.001000</td>\n",
       "    </tr>\n",
       "    <tr>\n",
       "      <td>1896</td>\n",
       "      <td>0.960628</td>\n",
       "      <td>0.959102</td>\n",
       "    </tr>\n",
       "  </tbody>\n",
       "</table>\n",
       "</div>"
      ],
      "text/plain": [
       "      2008 [YR2008]  2012 [YR2012]\n",
       "559        0.492566       0.584353\n",
       "618        0.021903       0.028417\n",
       "753        0.109054       0.100967\n",
       "1030       0.001000       0.001000\n",
       "1896       0.960628       0.959102"
      ]
     },
     "execution_count": 93,
     "metadata": {},
     "output_type": "execute_result"
    }
   ],
   "source": [
    "# Predictions:\n",
    "_2008_ridge = ridge_regression_poly(X,y,2,2008,8)\n",
    "_2012_ridge = ridge_regression_poly(X,y,2,2012,35)\n",
    "\n",
    "# Into submission:\n",
    "submission['2008 [YR2008]'] = _2008_ridge\n",
    "submission['2012 [YR2012]'] = _2012_ridge\n",
    "submission.head()"
   ]
  },
  {
   "cell_type": "code",
   "execution_count": 84,
   "metadata": {},
   "outputs": [
    {
     "data": {
      "image/png": "[encoded data removed]",
      "text/plain": [
       "<Figure size 1008x576 with 1 Axes>"
      ]
     },
     "metadata": {
      "needs_background": "light"
     },
     "output_type": "display_data"
    }
   ],
   "source": [
    "# Plot: degree = 2, Ridge, alpha=30 (Strongly regularized)\n",
    "np.random.seed(2)\n",
    "plot_predictions(raw_data,description,_2008_ridge,_2012_ridge,5)"
   ]
  },
  {
   "cell_type": "code",
   "execution_count": 94,
   "metadata": {},
   "outputs": [],
   "source": [
    "# To CSV:\n",
    "submission.to_csv('data/ridge_poly2_alpha32.csv')"
   ]
  }
 ],
 "metadata": {
  "kernelspec": {
   "display_name": "Python 3",
   "language": "python",
   "name": "python3"
  },
  "language_info": {
   "codemirror_mode": {
    "name": "ipython",
    "version": 3
   },
   "file_extension": ".py",
   "mimetype": "text/x-python",
   "name": "python",
   "nbconvert_exporter": "python",
   "pygments_lexer": "ipython3",
   "version": "3.7.3"
  },
  "toc": {
   "base_numbering": 1,
   "nav_menu": {},
   "number_sections": true,
   "sideBar": true,
   "skip_h1_title": false,
   "title_cell": "Table of Contents",
   "title_sidebar": "Contents",
   "toc_cell": false,
   "toc_position": {},
   "toc_section_display": true,
   "toc_window_display": false
  }
 },
 "nbformat": 4,
 "nbformat_minor": 4
}
